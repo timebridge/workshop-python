{
 "metadata": {
  "name": "04_class"
 },
 "nbformat": 3,
 "nbformat_minor": 0,
 "worksheets": [
  {
   "cells": [
    {
     "cell_type": "heading",
     "level": 2,
     "metadata": {},
     "source": [
      "class"
     ]
    },
    {
     "cell_type": "markdown",
     "metadata": {},
     "source": [
      "In the previous chapetr we defined a decorator, like:"
     ]
    },
    {
     "cell_type": "code",
     "collapsed": false,
     "input": [
      "from take_time import timeit"
     ],
     "language": "python",
     "metadata": {},
     "outputs": []
    },
    {
     "cell_type": "markdown",
     "metadata": {},
     "source": [
      "Define a object"
     ]
    },
    {
     "cell_type": "code",
     "collapsed": false,
     "input": [
      "class Rectangle(object):\n",
      "    def __init__(self, s0, s1):\n",
      "        self.s0 = s0\n",
      "        self.s1 = s1\n",
      "        \n",
      "    @timeit\n",
      "    def perimeter(self):\n",
      "        return 2 * (self.s0 + self.s1)\n",
      "    \n",
      "    def area(self):\n",
      "        pass"
     ],
     "language": "python",
     "metadata": {},
     "outputs": []
    },
    {
     "cell_type": "code",
     "collapsed": false,
     "input": [
      "square = Rectangle(5, 5)\n",
      "square.perimeter()"
     ],
     "language": "python",
     "metadata": {},
     "outputs": []
    },
    {
     "cell_type": "heading",
     "level": 3,
     "metadata": {},
     "source": [
      "Exercise 10"
     ]
    },
    {
     "cell_type": "markdown",
     "metadata": {},
     "source": [
      "Complete the class writing the method to compute the area... [2 minutes]"
     ]
    },
    {
     "cell_type": "code",
     "collapsed": false,
     "input": [],
     "language": "python",
     "metadata": {},
     "outputs": []
    },
    {
     "cell_type": "heading",
     "level": 3,
     "metadata": {},
     "source": [
      "Exercise 11"
     ]
    },
    {
     "cell_type": "markdown",
     "metadata": {},
     "source": [
      "Define a new class for a circle: [5 minutes]"
     ]
    },
    {
     "cell_type": "code",
     "collapsed": false,
     "input": [],
     "language": "python",
     "metadata": {},
     "outputs": []
    },
    {
     "cell_type": "heading",
     "level": 2,
     "metadata": {},
     "source": [
      "Inheritance"
     ]
    },
    {
     "cell_type": "code",
     "collapsed": false,
     "input": [
      "class Person(object):\n",
      "    def __init__(self, name, surname):\n",
      "        self.name = name\n",
      "        self.surname = surname\n",
      "     \n",
      "        \n",
      "class Contact(Person):\n",
      "    def __init__(self, address=None, mobile=None, phone=None, *args, **kargs):\n",
      "        super(Contact, self).__init__(*args, **kargs) # super is a function that call the method of the parent object\n",
      "        self.address = address\n",
      "        self.mobile = mobile\n",
      "        self.phone = phone"
     ],
     "language": "python",
     "metadata": {},
     "outputs": []
    },
    {
     "cell_type": "code",
     "collapsed": false,
     "input": [
      "pietro = Person('pietro', 'zambelli')"
     ],
     "language": "python",
     "metadata": {},
     "outputs": []
    },
    {
     "cell_type": "code",
     "collapsed": false,
     "input": [
      "pietro.name"
     ],
     "language": "python",
     "metadata": {},
     "outputs": []
    },
    {
     "cell_type": "code",
     "collapsed": false,
     "input": [
      "zambelli = Contact(name='pietro', surname='zambelli', address='via Mesiano 77', phone='0461282696')"
     ],
     "language": "python",
     "metadata": {},
     "outputs": []
    },
    {
     "cell_type": "code",
     "collapsed": false,
     "input": [
      "zambelli.phone"
     ],
     "language": "python",
     "metadata": {},
     "outputs": []
    },
    {
     "cell_type": "code",
     "collapsed": false,
     "input": [
      "zambelli.name"
     ],
     "language": "python",
     "metadata": {},
     "outputs": []
    },
    {
     "cell_type": "code",
     "collapsed": false,
     "input": [
      "zambelli"
     ],
     "language": "python",
     "metadata": {},
     "outputs": []
    },
    {
     "cell_type": "code",
     "collapsed": false,
     "input": [
      "print zambelli"
     ],
     "language": "python",
     "metadata": {},
     "outputs": []
    },
    {
     "cell_type": "heading",
     "level": 3,
     "metadata": {},
     "source": [
      "Exercise 12"
     ]
    },
    {
     "cell_type": "markdown",
     "metadata": {},
     "source": [
      "Define a new class that inherit from the Contact and return a beatiful output, definig the magic methods __str__, __repr__: [5 min]"
     ]
    },
    {
     "cell_type": "code",
     "collapsed": false,
     "input": [
      "class NiceContact(Contact):\n",
      "    def __init__(self):\n",
      "        pass\n",
      "    \n",
      "    def __str__(self):\n",
      "        pass\n",
      "    \n",
      "    def __repr__(self):\n",
      "        pass"
     ],
     "language": "python",
     "metadata": {},
     "outputs": []
    },
    {
     "cell_type": "markdown",
     "metadata": {},
     "source": [
      "Below you can find a test:"
     ]
    },
    {
     "cell_type": "code",
     "collapsed": false,
     "input": [
      "pietro = NiceContact(name='pietro', surname='zambelli', address='via Mesiano 77', phone='0461282696')\n",
      "print repr(pietro)  # use __repr__\n",
      "print pietro        # use __str__"
     ],
     "language": "python",
     "metadata": {},
     "outputs": []
    },
    {
     "cell_type": "markdown",
     "metadata": {},
     "source": [
      "Other magic methods"
     ]
    },
    {
     "cell_type": "code",
     "collapsed": false,
     "input": [
      "one = 1\n",
      "two = 2."
     ],
     "language": "python",
     "metadata": {},
     "outputs": []
    },
    {
     "cell_type": "code",
     "collapsed": false,
     "input": [
      "one.__add__(2)"
     ],
     "language": "python",
     "metadata": {},
     "outputs": []
    },
    {
     "cell_type": "code",
     "collapsed": false,
     "input": [
      "two.__sub__(one)"
     ],
     "language": "python",
     "metadata": {},
     "outputs": []
    },
    {
     "cell_type": "code",
     "collapsed": false,
     "input": [
      "'a'.__add__('b') == 'a' + 'b'"
     ],
     "language": "python",
     "metadata": {},
     "outputs": []
    },
    {
     "cell_type": "markdown",
     "metadata": {},
     "source": [
      "See more magic mathods: http://www.rafekettler.com/magicmethods.html"
     ]
    }
   ],
   "metadata": {}
  }
 ]
}