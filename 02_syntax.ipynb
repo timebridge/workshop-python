{
 "metadata": {
  "name": "02_syntax"
 },
 "nbformat": 3,
 "nbformat_minor": 0,
 "worksheets": [
  {
   "cells": [
    {
     "cell_type": "heading",
     "level": 1,
     "metadata": {},
     "source": [
      "Syntax"
     ]
    },
    {
     "cell_type": "markdown",
     "metadata": {},
     "source": [
      "The indentation (4 spaces) in python it's important"
     ]
    },
    {
     "cell_type": "raw",
     "metadata": {},
     "source": [
      "The main Syntax are:\n",
      "    - if, elif, else;\n",
      "    - for and list-comprehension;\n",
      "    - while;\n",
      "    - break and continue;\n",
      "    - function;\n",
      "    - decorator;\n",
      "    - class."
     ]
    },
    {
     "cell_type": "heading",
     "level": 2,
     "metadata": {},
     "source": [
      "if, elif, else"
     ]
    },
    {
     "cell_type": "code",
     "collapsed": false,
     "input": [
      "# define some sets\n",
      "gis = set(['arcgis', 'mapinfo', 'qgis', 'grass', 'udig'])\n",
      "opensource = set(['qgis', 'grass', 'udig'])\n",
      "usingpython = set(['qgis', 'grass', 'arcgis'])\n",
      "\n",
      "\n",
      "soft = 'arcgs'\n",
      "if soft in gis:\n",
      "    print 'it is a GIS software'\n",
      "elif soft in opensource:\n",
      "    print 'it is opensource'\n",
      "elif soft in usingpython:\n",
      "    print 'it use python'\n",
      "else:\n",
      "    print 'something else...'"
     ],
     "language": "python",
     "metadata": {},
     "outputs": []
    },
    {
     "cell_type": "markdown",
     "metadata": {},
     "source": [
      "Use a if condition to assign a variable"
     ]
    },
    {
     "cell_type": "code",
     "collapsed": false,
     "input": [
      "usepython = True if soft in usingpython else False\n",
      "print usepython"
     ],
     "language": "python",
     "metadata": {},
     "outputs": []
    },
    {
     "cell_type": "heading",
     "level": 2,
     "metadata": {},
     "source": [
      "for"
     ]
    },
    {
     "cell_type": "code",
     "collapsed": false,
     "input": [
      "for soft in gis:\n",
      "    print soft, '\\n', '=' * len(soft)\n",
      "    if soft in opensource:\n",
      "        print 'it is opensource'\n",
      "    else:\n",
      "        print 'it is propretary'\n",
      "    if soft in usingpython:\n",
      "        print 'it use python'\n",
      "    else:\n",
      "        print 'it use something else'\n",
      "    print '\\n'"
     ],
     "language": "python",
     "metadata": {},
     "outputs": []
    },
    {
     "cell_type": "markdown",
     "metadata": {},
     "source": [
      "List comprehension:"
     ]
    },
    {
     "cell_type": "code",
     "collapsed": false,
     "input": [
      "len_software = [(soft, len(soft)) for soft in gis]\n",
      "len_software"
     ],
     "language": "python",
     "metadata": {},
     "outputs": []
    },
    {
     "cell_type": "markdown",
     "metadata": {},
     "source": [
      "List comprehension with a if condition"
     ]
    },
    {
     "cell_type": "code",
     "collapsed": false,
     "input": [
      "len_software = [(soft, len(soft)) for soft in gis if soft in opensource]\n",
      "len_software"
     ],
     "language": "python",
     "metadata": {},
     "outputs": []
    },
    {
     "cell_type": "heading",
     "level": 3,
     "metadata": {},
     "source": [
      "Exercise 7"
     ]
    },
    {
     "cell_type": "markdown",
     "metadata": {},
     "source": [
      "Using the list comprehension return a list of tuple with the pairs key and value, of contact. [2 minutes]"
     ]
    },
    {
     "cell_type": "code",
     "collapsed": false,
     "input": [
      "contact = {'pietro': 333123808, 'jonh': 123123123}"
     ],
     "language": "python",
     "metadata": {},
     "outputs": []
    },
    {
     "cell_type": "markdown",
     "metadata": {},
     "source": [
      "Possible solutions are:"
     ]
    },
    {
     "cell_type": "code",
     "collapsed": false,
     "input": [
      "[(key, contact[key]) for key in contact.keys()]"
     ],
     "language": "python",
     "metadata": {},
     "outputs": []
    },
    {
     "cell_type": "code",
     "collapsed": false,
     "input": [
      "contact.items()"
     ],
     "language": "python",
     "metadata": {},
     "outputs": []
    },
    {
     "cell_type": "code",
     "collapsed": false,
     "input": [
      "[item for item in contact.iteritems()]"
     ],
     "language": "python",
     "metadata": {},
     "outputs": []
    },
    {
     "cell_type": "markdown",
     "metadata": {},
     "source": [
      "Use %timeit to see the difference!"
     ]
    },
    {
     "cell_type": "heading",
     "level": 2,
     "metadata": {},
     "source": [
      "while"
     ]
    },
    {
     "cell_type": "code",
     "collapsed": false,
     "input": [
      "x = 0\n",
      "while x < 4:\n",
      "    print 'a' * x\n",
      "    x += 1"
     ],
     "language": "python",
     "metadata": {},
     "outputs": []
    },
    {
     "cell_type": "heading",
     "level": 2,
     "metadata": {},
     "source": [
      "continue and break"
     ]
    },
    {
     "cell_type": "markdown",
     "metadata": {},
     "source": [
      "Sometimes is useful interupt the cycle:"
     ]
    },
    {
     "cell_type": "code",
     "collapsed": false,
     "input": [
      "for soft in gis:\n",
      "    print soft, '\\n', '=' * len(soft)\n",
      "    if soft in opensource:\n",
      "        print 'it is opensource'\n",
      "        break\n",
      "    else:\n",
      "        print 'it is propretary'\n",
      "    if soft in usingpython:\n",
      "        print 'it use python'\n",
      "        continue\n",
      "    else:\n",
      "        print 'it use something else'\n",
      "    print '\\n'"
     ],
     "language": "python",
     "metadata": {},
     "outputs": []
    },
    {
     "cell_type": "heading",
     "level": 2,
     "metadata": {},
     "source": [
      "Try and except"
     ]
    },
    {
     "cell_type": "markdown",
     "metadata": {},
     "source": [
      "Python allow to manage the errors:"
     ]
    },
    {
     "cell_type": "code",
     "collapsed": false,
     "input": [
      "numerator = 1\n",
      "denominator = 0.5 # change to 0\n",
      "try:\n",
      "    print numerator/denominator\n",
      "except ZeroDivisionError:\n",
      "    print \"Divide a number with 0 is not a valid operation!\""
     ],
     "language": "python",
     "metadata": {},
     "outputs": []
    },
    {
     "cell_type": "code",
     "collapsed": false,
     "input": [],
     "language": "python",
     "metadata": {},
     "outputs": []
    }
   ],
   "metadata": {}
  }
 ]
}